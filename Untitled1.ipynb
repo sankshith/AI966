{
 "cells": [
  {
   "cell_type": "code",
   "execution_count": null,
   "id": "4d99fe2f",
   "metadata": {},
   "outputs": [],
   "source": [
    "import pandas as pd\n",
    "data={\n",
    "    'Empno':[101,102,103,104,105],\n",
    "    'Ename':['Pawan','Nithesh','Ronith','Swasthik','preetham'],\n",
    "    'Qualification':['Cs','Diplom','Engineering','IAS','Bcom'],\n",
    "    'Subject':['Cs','Mech','Ce','Ec','Am']\n",
    "}\n"
   ]
  }
 ],
 "metadata": {
  "kernelspec": {
   "display_name": "Python 3 (ipykernel)",
   "language": "python",
   "name": "python3"
  },
  "language_info": {
   "codemirror_mode": {
    "name": "ipython",
    "version": 3
   },
   "file_extension": ".py",
   "mimetype": "text/x-python",
   "name": "python",
   "nbconvert_exporter": "python",
   "pygments_lexer": "ipython3",
   "version": "3.11.4"
  }
 },
 "nbformat": 4,
 "nbformat_minor": 5
}
