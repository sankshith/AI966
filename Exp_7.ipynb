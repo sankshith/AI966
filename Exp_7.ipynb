{
 "cells": [
  {
   "cell_type": "code",
   "execution_count": 1,
   "id": "e65daf8a",
   "metadata": {},
   "outputs": [
    {
     "name": "stdout",
     "output_type": "stream",
     "text": [
      "['Bread', 'Milk', 'Eggs', 'Butter', 'Cocoa']\n",
      "[78, 47, 96, 55, 34]\n",
      "[1, 2, 3, 0, 'text', True, (3+2j)]\n"
     ]
    }
   ],
   "source": [
    "item_list=['Bread','Milk','Eggs','Butter','Cocoa']\n",
    "student_marks=[78,47,96,55,34]\n",
    "hetero_list=[1,2,3,0,'text',True,3+2j]\n",
    "print(item_list)\n",
    "print(student_marks)\n",
    "print(hetero_list)"
   ]
  },
  {
   "cell_type": "code",
   "execution_count": 2,
   "id": "3bb0d4cb",
   "metadata": {},
   "outputs": [
    {
     "name": "stdout",
     "output_type": "stream",
     "text": [
      "[83, 52, 101, 60, 39]\n"
     ]
    }
   ],
   "source": [
    "student_marks=[78,47,96,55,34]\n",
    "for i in range(len(student_marks)):\n",
    "    student_marks[i]+=5\n",
    "print(student_marks)"
   ]
  },
  {
   "cell_type": "code",
   "execution_count": 1,
   "id": "61aecddd",
   "metadata": {},
   "outputs": [
    {
     "name": "stdout",
     "output_type": "stream",
     "text": [
      "CPU times: total: 422 ms\n",
      "Wall time: 436 ms\n"
     ]
    }
   ],
   "source": [
    "%%time\n",
    "list1=list(range(1,1000000))\n",
    "list2=list(range(2,10000001))\n",
    "list3=[]\n",
    "for i in  range(len(list1)):\n",
    "    list3.append(list1[i]+list2[i])"
   ]
  },
  {
   "cell_type": "code",
   "execution_count": null,
   "id": "7766a372",
   "metadata": {},
   "outputs": [],
   "source": []
  }
 ],
 "metadata": {
  "kernelspec": {
   "display_name": "Python 3 (ipykernel)",
   "language": "python",
   "name": "python3"
  },
  "language_info": {
   "codemirror_mode": {
    "name": "ipython",
    "version": 3
   },
   "file_extension": ".py",
   "mimetype": "text/x-python",
   "name": "python",
   "nbconvert_exporter": "python",
   "pygments_lexer": "ipython3",
   "version": "3.11.4"
  }
 },
 "nbformat": 4,
 "nbformat_minor": 5
}
